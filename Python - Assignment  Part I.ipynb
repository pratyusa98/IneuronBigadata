{
 "cells": [
  {
   "cell_type": "markdown",
   "id": "planned-carry",
   "metadata": {},
   "source": [
    "## Python Assignment"
   ]
  },
  {
   "cell_type": "markdown",
   "id": "practical-composite",
   "metadata": {},
   "source": [
    "### 1. List_remove_append\n",
    "Description: Remove SPSS from input_list= ['SAS', 'R', 'PYTHON', 'SPSS'] and add 'SPARK'\n",
    "in its place."
   ]
  },
  {
   "cell_type": "code",
   "execution_count": 1,
   "id": "concrete-pepper",
   "metadata": {},
   "outputs": [
    {
     "name": "stdout",
     "output_type": "stream",
     "text": [
      "Original List:  ['SAS', 'R', 'PYTHON', 'SPSS']\n",
      "After Delete SPSS:  ['SAS', 'R', 'PYTHON']\n",
      "After Add Spark:  ['SAS', 'R', 'PYTHON', 'SPARK']\n"
     ]
    }
   ],
   "source": [
    "input_list= ['SAS', 'R', 'PYTHON', 'SPSS']\n",
    "print('Original List: ',input_list)\n",
    "\n",
    "\n",
    "input_list.remove('SPSS')\n",
    "print('After Delete SPSS: ',input_list)\n",
    "\n",
    "input_list.append('SPARK')\n",
    "print('After Add Spark: ',input_list)"
   ]
  },
  {
   "cell_type": "markdown",
   "id": "entertaining-stroke",
   "metadata": {},
   "source": [
    "### 2. String to List Conversion\n",
    "Description: Convert a string input_str = 'I love Data Science & Python' to a list by\n",
    "splitting it on ‘&’. The sample output for this string will be:"
   ]
  },
  {
   "cell_type": "code",
   "execution_count": 2,
   "id": "roman-index",
   "metadata": {},
   "outputs": [
    {
     "name": "stdout",
     "output_type": "stream",
     "text": [
      "['I love Data Science', 'Python']\n"
     ]
    }
   ],
   "source": [
    "def Convert(string):\n",
    "    li = list(string.split(\" & \"))\n",
    "    return li\n",
    "  \n",
    "# Driver code    \n",
    "input_str = 'I love Data Science & Python'\n",
    "print(Convert(input_str))"
   ]
  },
  {
   "cell_type": "markdown",
   "id": "unauthorized-millennium",
   "metadata": {},
   "source": [
    "### 3. List to String Conversion\n",
    "Description: Convert a list ['Pythons syntax is easy to learn', 'Pythons syntax is very\n",
    "clear'] to a string using ‘&’. The sample output of this string will be:"
   ]
  },
  {
   "cell_type": "code",
   "execution_count": 3,
   "id": "compound-little",
   "metadata": {},
   "outputs": [
    {
     "name": "stdout",
     "output_type": "stream",
     "text": [
      "Pythons syntax is easy to learn & Pythons syntax is very clear\n"
     ]
    }
   ],
   "source": [
    "def listToString(listt): \n",
    "    # initialize an empty string\n",
    "    str1 = \" & \" \n",
    "    # return string  \n",
    "    return (str1.join(listt))\n",
    "        \n",
    "        \n",
    "# Driver code    \n",
    "listt =  ['Pythons syntax is easy to learn', 'Pythons syntax is very clear'] \n",
    "print(listToString(listt)) "
   ]
  },
  {
   "cell_type": "markdown",
   "id": "completed-visit",
   "metadata": {},
   "source": [
    "### 4. Nested List\n",
    "Description: Extract Python from a nested list\n",
    "input_list = [['SAS','R'],['Tableau','SQL'],['Python','Java']]"
   ]
  },
  {
   "cell_type": "code",
   "execution_count": 4,
   "id": "cognitive-victim",
   "metadata": {},
   "outputs": [
    {
     "data": {
      "text/plain": [
       "'Python'"
      ]
     },
     "execution_count": 4,
     "metadata": {},
     "output_type": "execute_result"
    }
   ],
   "source": [
    "input_list = [['SAS','R'],['Tableau','SQL'],['Python','Java']]\n",
    "input_list[2][0]"
   ]
  },
  {
   "cell_type": "markdown",
   "id": "apparent-vermont",
   "metadata": {},
   "source": [
    "### 5. It’s the time to disco\n",
    "Description: t = (\"disco\", 12, 4.5)\n",
    "What is the output of: t[0][2]"
   ]
  },
  {
   "cell_type": "code",
   "execution_count": 5,
   "id": "going-owner",
   "metadata": {},
   "outputs": [
    {
     "data": {
      "text/plain": [
       "'s'"
      ]
     },
     "execution_count": 5,
     "metadata": {},
     "output_type": "execute_result"
    }
   ],
   "source": [
    "t = (\"disco\", 12, 4.5)\n",
    "t[0][2]"
   ]
  },
  {
   "cell_type": "markdown",
   "id": "treated-improvement",
   "metadata": {},
   "source": [
    "### 6. String Palindrome\n",
    "Description: Write a program to check whether a string is a palindrome or not. Print 1 if\n",
    "the string is a palindrome and 0 otherwise."
   ]
  },
  {
   "cell_type": "code",
   "execution_count": 6,
   "id": "convertible-parks",
   "metadata": {},
   "outputs": [
    {
     "name": "stdout",
     "output_type": "stream",
     "text": [
      "1\n"
     ]
    }
   ],
   "source": [
    "# function which return reverse of a string\n",
    "\n",
    "def isPalindrome(s):\n",
    "    return s == s[::-1]\n",
    "\n",
    "\n",
    "# Driver code\n",
    "s = \"malayalam\"\n",
    "ans = isPalindrome(s)\n",
    "\n",
    "if ans:\n",
    "    print(\"1\")\n",
    "else:\n",
    "    print(\"0\")\n"
   ]
  },
  {
   "cell_type": "markdown",
   "id": "essential-material",
   "metadata": {},
   "source": [
    "### 7. Reverse Words\n",
    "Description: You will be given a sentence in the form of a string. You have to reverse the\n",
    "order of the words in the sentence. Remember not to reverse the individual words, but\n",
    "the order of words. Check the sample input-output for further clarification."
   ]
  },
  {
   "cell_type": "code",
   "execution_count": 7,
   "id": "failing-beijing",
   "metadata": {},
   "outputs": [
    {
     "name": "stdout",
     "output_type": "stream",
     "text": [
      "code practice quiz geeks\n"
     ]
    }
   ],
   "source": [
    "# Function to reverse words of string\n",
    "\n",
    "def rev_sentence(sentence):\n",
    "\n",
    "    words = sentence.split(' ')\n",
    "    reverse_sentence = ' '.join(reversed(words))\n",
    "\n",
    "    return reverse_sentence\n",
    "\n",
    "\n",
    "input = 'geeks quiz practice code'\n",
    "print (rev_sentence(input))\n"
   ]
  },
  {
   "cell_type": "markdown",
   "id": "systematic-confidence",
   "metadata": {},
   "source": [
    "### 8. Multiple Choice Questions"
   ]
  },
  {
   "cell_type": "markdown",
   "id": "scientific-fundamental",
   "metadata": {},
   "source": [
    "1. How will you extract ‘love’ from the string S = “I love Python”? (More than one option may be correct.)."
   ]
  },
  {
   "cell_type": "code",
   "execution_count": 8,
   "id": "green-mediterranean",
   "metadata": {},
   "outputs": [
    {
     "data": {
      "text/plain": [
       "'love'"
      ]
     },
     "execution_count": 8,
     "metadata": {},
     "output_type": "execute_result"
    }
   ],
   "source": [
    "S = \"I love Python\"\n",
    "S[2:6]"
   ]
  },
  {
   "cell_type": "markdown",
   "id": "bored-usage",
   "metadata": {},
   "source": [
    "2. What will the output of 3 * 3 ** 3 be?"
   ]
  },
  {
   "cell_type": "code",
   "execution_count": 9,
   "id": "dominant-alliance",
   "metadata": {},
   "outputs": [
    {
     "data": {
      "text/plain": [
       "81"
      ]
     },
     "execution_count": 9,
     "metadata": {},
     "output_type": "execute_result"
    }
   ],
   "source": [
    "3*3**3"
   ]
  },
  {
   "cell_type": "markdown",
   "id": "motivated-calculation",
   "metadata": {},
   "source": [
    "3. What will the output be of ((500//7) % 5) ** 3?"
   ]
  },
  {
   "cell_type": "code",
   "execution_count": 10,
   "id": "abstract-wings",
   "metadata": {},
   "outputs": [
    {
     "data": {
      "text/plain": [
       "1"
      ]
     },
     "execution_count": 10,
     "metadata": {},
     "output_type": "execute_result"
    }
   ],
   "source": [
    "((500//7) % 5) ** 3"
   ]
  },
  {
   "cell_type": "markdown",
   "id": "transsexual-manor",
   "metadata": {},
   "source": [
    "4. If you have a tuple T = (3, 5, 7, 11), what will the output of T.append(9) be?"
   ]
  },
  {
   "cell_type": "code",
   "execution_count": 11,
   "id": "simplified-billy",
   "metadata": {},
   "outputs": [
    {
     "ename": "AttributeError",
     "evalue": "'tuple' object has no attribute 'append'",
     "output_type": "error",
     "traceback": [
      "\u001b[1;31m---------------------------------------------------------------------------\u001b[0m",
      "\u001b[1;31mAttributeError\u001b[0m                            Traceback (most recent call last)",
      "\u001b[1;32m<ipython-input-11-9d8c21e3c639>\u001b[0m in \u001b[0;36m<module>\u001b[1;34m()\u001b[0m\n\u001b[0;32m      1\u001b[0m \u001b[0mT\u001b[0m \u001b[1;33m=\u001b[0m \u001b[1;33m(\u001b[0m\u001b[1;36m3\u001b[0m\u001b[1;33m,\u001b[0m \u001b[1;36m5\u001b[0m\u001b[1;33m,\u001b[0m \u001b[1;36m7\u001b[0m\u001b[1;33m,\u001b[0m \u001b[1;36m11\u001b[0m\u001b[1;33m)\u001b[0m\u001b[1;33m\u001b[0m\u001b[1;33m\u001b[0m\u001b[0m\n\u001b[1;32m----> 2\u001b[1;33m \u001b[0mT\u001b[0m\u001b[1;33m.\u001b[0m\u001b[0mappend\u001b[0m\u001b[1;33m(\u001b[0m\u001b[1;36m9\u001b[0m\u001b[1;33m)\u001b[0m\u001b[1;33m\u001b[0m\u001b[1;33m\u001b[0m\u001b[0m\n\u001b[0m",
      "\u001b[1;31mAttributeError\u001b[0m: 'tuple' object has no attribute 'append'"
     ]
    }
   ],
   "source": [
    "T = (3, 5, 7, 11)\n",
    "T.append(9)"
   ]
  },
  {
   "cell_type": "markdown",
   "id": "rental-cradle",
   "metadata": {},
   "source": [
    "6. What will the output of the following code be?"
   ]
  },
  {
   "cell_type": "code",
   "execution_count": 13,
   "id": "veterinary-brooklyn",
   "metadata": {},
   "outputs": [
    {
     "ename": "SyntaxError",
     "evalue": "can't assign to literal (<ipython-input-13-2cbd0791a687>, line 1)",
     "output_type": "error",
     "traceback": [
      "\u001b[1;36m  File \u001b[1;32m\"<ipython-input-13-2cbd0791a687>\"\u001b[1;36m, line \u001b[1;32m1\u001b[0m\n\u001b[1;33m    1 = [32, 34, 12, 27, 33]\u001b[0m\n\u001b[1;37m                            ^\u001b[0m\n\u001b[1;31mSyntaxError\u001b[0m\u001b[1;31m:\u001b[0m can't assign to literal\n"
     ]
    }
   ],
   "source": [
    "1 = [32, 34, 12, 27, 33]\n",
    "l.append((l4, 19))\n",
    "print(len(l))"
   ]
  },
  {
   "cell_type": "markdown",
   "id": "consolidated-detail",
   "metadata": {},
   "source": [
    "7. Which of the following statements is incorrect regarding sets in Python?"
   ]
  },
  {
   "cell_type": "markdown",
   "id": "improving-dragon",
   "metadata": {},
   "source": [
    "Sets are represented using curly braces {} Incorrect"
   ]
  },
  {
   "cell_type": "markdown",
   "id": "failing-pitch",
   "metadata": {},
   "source": [
    "8. What will the output be of the following code?"
   ]
  },
  {
   "cell_type": "code",
   "execution_count": 14,
   "id": "pretty-republican",
   "metadata": {},
   "outputs": [
    {
     "name": "stdout",
     "output_type": "stream",
     "text": [
      "1\n",
      "2\n",
      "3\n"
     ]
    }
   ],
   "source": [
    "D = {1:['Raj', 22], 2:['Simran', 21], 3:['Rahul', 40]}\n",
    "for val in D:\n",
    "    print(val)"
   ]
  },
  {
   "cell_type": "markdown",
   "id": "british-vinyl",
   "metadata": {},
   "source": [
    "9. What will the ‘comprehension equivalent’ be for the following snippet of code?"
   ]
  },
  {
   "cell_type": "raw",
   "id": "charged-palestinian",
   "metadata": {},
   "source": [
    "for sentence in paragraph:\n",
    "    for word in sentence.split():\n",
    "        single_word_list.append(word)\n",
    "        \n",
    "Ans: - [word for sentence in paragraph for word in sentence.split()]"
   ]
  },
  {
   "cell_type": "markdown",
   "id": "marine-masters",
   "metadata": {},
   "source": [
    "10.What will be the output of this code?"
   ]
  },
  {
   "cell_type": "code",
   "execution_count": 15,
   "id": "announced-knitting",
   "metadata": {},
   "outputs": [
    {
     "name": "stdout",
     "output_type": "stream",
     "text": [
      "[10, 9, 8, 7, 6, 5, 4, 3, 2]\n"
     ]
    }
   ],
   "source": [
    "print(list(range(10, 1, -1)))"
   ]
  }
 ],
 "metadata": {
  "kernelspec": {
   "display_name": "Python 3",
   "language": "python",
   "name": "python3"
  },
  "language_info": {
   "codemirror_mode": {
    "name": "ipython",
    "version": 3
   },
   "file_extension": ".py",
   "mimetype": "text/x-python",
   "name": "python",
   "nbconvert_exporter": "python",
   "pygments_lexer": "ipython3",
   "version": "3.7.6"
  }
 },
 "nbformat": 4,
 "nbformat_minor": 5
}
